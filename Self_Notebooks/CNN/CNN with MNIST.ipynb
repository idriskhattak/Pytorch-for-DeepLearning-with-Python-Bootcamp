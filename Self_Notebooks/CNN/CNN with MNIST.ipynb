{
 "cells": [
  {
   "cell_type": "markdown",
   "metadata": {},
   "source": [
    "#   IDRIS "
   ]
  },
  {
   "cell_type": "code",
   "execution_count": 1,
   "metadata": {},
   "outputs": [],
   "source": [
    "import torch\n",
    "import torch.nn as nn\n",
    "import torch.nn.functional as F\n",
    "from torch.utils.data import DataLoader\n",
    "from torchvision import datasets, transforms\n",
    "from torchvision.utils import make_grid"
   ]
  },
  {
   "cell_type": "code",
   "execution_count": 2,
   "metadata": {},
   "outputs": [],
   "source": [
    "import numpy as np  \n",
    "import pandas as pd \n",
    "from sklearn.metrics import confusion_matrix\n",
    "import matplotlib.pyplot as plt     \n",
    "%matplotlib inline"
   ]
  },
  {
   "cell_type": "markdown",
   "metadata": {},
   "source": [
    "# Lets download our dataset we will be using"
   ]
  },
  {
   "cell_type": "code",
   "execution_count": 3,
   "metadata": {},
   "outputs": [],
   "source": [
    "# First lets define transform\n",
    "transform = transforms.ToTensor()"
   ]
  },
  {
   "cell_type": "code",
   "execution_count": 4,
   "metadata": {},
   "outputs": [],
   "source": [
    "train_data = datasets.MNIST(root='../Data', train=True, download=True, transform= transform)"
   ]
  },
  {
   "cell_type": "code",
   "execution_count": 5,
   "metadata": {},
   "outputs": [],
   "source": [
    "test_data = datasets.MNIST(root='../Data', train=False, download=True, transform=transform)"
   ]
  },
  {
   "cell_type": "code",
   "execution_count": 6,
   "metadata": {},
   "outputs": [
    {
     "data": {
      "text/plain": [
       "Dataset MNIST\n",
       "    Number of datapoints: 60000\n",
       "    Root location: ../Data\n",
       "    Split: Train\n",
       "    StandardTransform\n",
       "Transform: ToTensor()"
      ]
     },
     "execution_count": 6,
     "metadata": {},
     "output_type": "execute_result"
    }
   ],
   "source": [
    "train_data"
   ]
  },
  {
   "cell_type": "code",
   "execution_count": 7,
   "metadata": {},
   "outputs": [
    {
     "data": {
      "text/plain": [
       "Dataset MNIST\n",
       "    Number of datapoints: 10000\n",
       "    Root location: ../Data\n",
       "    Split: Test\n",
       "    StandardTransform\n",
       "Transform: ToTensor()"
      ]
     },
     "execution_count": 7,
     "metadata": {},
     "output_type": "execute_result"
    }
   ],
   "source": [
    "test_data"
   ]
  },
  {
   "cell_type": "code",
   "execution_count": 8,
   "metadata": {},
   "outputs": [],
   "source": [
    "train_loader = DataLoader(train_data, batch_size= 10, shuffle=True)\n",
    "test_loader = DataLoader(test_data, batch_size= 10, shuffle=False)"
   ]
  },
  {
   "cell_type": "markdown",
   "metadata": {},
   "source": [
    "# Now breaking down Convolutional Neural Network (For Better Understadning)"
   ]
  },
  {
   "cell_type": "code",
   "execution_count": 9,
   "metadata": {},
   "outputs": [],
   "source": [
    "# Define layers\n",
    "conv1 = nn.Conv2d(1, 6, 3, 1)\n",
    "conv2 = nn.Conv2d(6, 16, 3, 1)"
   ]
  },
  {
   "cell_type": "code",
   "execution_count": 10,
   "metadata": {},
   "outputs": [],
   "source": [
    "# Grab the first MNIST record\n",
    "for i, (X_train, y_train) in enumerate(train_data):\n",
    "    break"
   ]
  },
  {
   "cell_type": "code",
   "execution_count": 11,
   "metadata": {},
   "outputs": [
    {
     "name": "stdout",
     "output_type": "stream",
     "text": [
      "torch.Size([1, 1, 28, 28])\n"
     ]
    }
   ],
   "source": [
    "# Create a rank-4 tensor to be passed into the model\n",
    "# (train_loader will have done this already)\n",
    "x = X_train.view(1,1,28,28)\n",
    "print(x.shape)"
   ]
  },
  {
   "cell_type": "code",
   "execution_count": 12,
   "metadata": {},
   "outputs": [
    {
     "name": "stdout",
     "output_type": "stream",
     "text": [
      "torch.Size([1, 6, 26, 26])\n"
     ]
    }
   ],
   "source": [
    "# Perform the first convolution/activation\n",
    "x = F.relu(conv1(x))\n",
    "print(x.shape)"
   ]
  },
  {
   "cell_type": "code",
   "execution_count": 13,
   "metadata": {},
   "outputs": [
    {
     "name": "stdout",
     "output_type": "stream",
     "text": [
      "torch.Size([1, 6, 13, 13])\n"
     ]
    }
   ],
   "source": [
    "# Run the first pooling layer\n",
    "x = F.max_pool2d(x, 2, 2)\n",
    "print(x.shape)"
   ]
  },
  {
   "cell_type": "code",
   "execution_count": 14,
   "metadata": {},
   "outputs": [
    {
     "name": "stdout",
     "output_type": "stream",
     "text": [
      "torch.Size([1, 16, 11, 11])\n"
     ]
    }
   ],
   "source": [
    "# Perform the second convolution/activation\n",
    "x = F.relu(conv2(x))\n",
    "print(x.shape)"
   ]
  },
  {
   "cell_type": "code",
   "execution_count": 15,
   "metadata": {},
   "outputs": [
    {
     "name": "stdout",
     "output_type": "stream",
     "text": [
      "torch.Size([1, 16, 5, 5])\n"
     ]
    }
   ],
   "source": [
    "# Run the second pooling layer\n",
    "x = F.max_pool2d(x, 2, 2)\n",
    "print(x.shape)"
   ]
  },
  {
   "cell_type": "code",
   "execution_count": 16,
   "metadata": {},
   "outputs": [
    {
     "name": "stdout",
     "output_type": "stream",
     "text": [
      "torch.Size([1, 400])\n"
     ]
    }
   ],
   "source": [
    "# Flatten the data\n",
    "x = x.view(-1, 5*5*16)\n",
    "print(x.shape)"
   ]
  },
  {
   "cell_type": "markdown",
   "metadata": {},
   "source": [
    "# Ok so we have better understanding that what is happening inside CNN, Now lets define class for CNN model."
   ]
  },
  {
   "cell_type": "code",
   "execution_count": 17,
   "metadata": {},
   "outputs": [],
   "source": [
    "class ConvolutionalNetwork(nn.Module):\n",
    "    def __init__(self):\n",
    "        super().__init__()\n",
    "        self.conv1 = nn.Conv2d(1, 6, 3, 1)\n",
    "        self.conv2 = nn.Conv2d(6, 16, 3, 1)\n",
    "        self.fc1 = nn.Linear(5*5*16, 120)\n",
    "        self.fc2 = nn.Linear(120, 84)\n",
    "        self.fc3 = nn.Linear(84,10)\n",
    "\n",
    "    def forward(self, X):\n",
    "        X = F.relu(self.conv1(X))\n",
    "        X = F.max_pool2d(X, 2, 2)\n",
    "        X = F.relu(self.conv2(X))\n",
    "        X = F.max_pool2d(X, 2, 2)\n",
    "        X = X.view(-1, 5*5*16)\n",
    "        X = F.relu(self.fc1(X))\n",
    "        X = F.relu(self.fc2(X))\n",
    "        X = self.fc3(X)\n",
    "        return F.log_softmax(X, dim=1)"
   ]
  },
  {
   "cell_type": "code",
   "execution_count": 18,
   "metadata": {},
   "outputs": [
    {
     "data": {
      "text/plain": [
       "ConvolutionalNetwork(\n",
       "  (conv1): Conv2d(1, 6, kernel_size=(3, 3), stride=(1, 1))\n",
       "  (conv2): Conv2d(6, 16, kernel_size=(3, 3), stride=(1, 1))\n",
       "  (fc1): Linear(in_features=400, out_features=120, bias=True)\n",
       "  (fc2): Linear(in_features=120, out_features=84, bias=True)\n",
       "  (fc3): Linear(in_features=84, out_features=10, bias=True)\n",
       ")"
      ]
     },
     "execution_count": 18,
     "metadata": {},
     "output_type": "execute_result"
    }
   ],
   "source": [
    "model = ConvolutionalNetwork()\n",
    "model"
   ]
  },
  {
   "cell_type": "code",
   "execution_count": 19,
   "metadata": {},
   "outputs": [],
   "source": [
    "# This was copied\n",
    "def count_parameters(model):\n",
    "    params = [p.numel() for p in model.parameters() if p.requires_grad]\n",
    "    for item in params:\n",
    "        print(f'{item:>6}')\n",
    "    print(f'______\\n{sum(params):>6}')"
   ]
  },
  {
   "cell_type": "code",
   "execution_count": 20,
   "metadata": {},
   "outputs": [
    {
     "name": "stdout",
     "output_type": "stream",
     "text": [
      "    54\n",
      "     6\n",
      "   864\n",
      "    16\n",
      " 48000\n",
      "   120\n",
      " 10080\n",
      "    84\n",
      "   840\n",
      "    10\n",
      "______\n",
      " 60074\n"
     ]
    }
   ],
   "source": [
    "count_parameters(model)"
   ]
  },
  {
   "cell_type": "markdown",
   "metadata": {},
   "source": [
    "We can see that we half a total half less parameters from ANN, When using CNN."
   ]
  },
  {
   "cell_type": "code",
   "execution_count": 21,
   "metadata": {},
   "outputs": [],
   "source": [
    "# Defining loss and criterion\n",
    "criterion = nn.CrossEntropyLoss()\n",
    "optimizer = torch.optim.Adam(model.parameters(), lr=0.001)"
   ]
  },
  {
   "cell_type": "markdown",
   "metadata": {},
   "source": [
    "# Training the model"
   ]
  },
  {
   "cell_type": "code",
   "execution_count": 22,
   "metadata": {},
   "outputs": [
    {
     "name": "stdout",
     "output_type": "stream",
     "text": [
      "epoch:  0  batch:  600 [  6000/60000]  loss: 0.12040588  accuracy:  77.033%\n",
      "epoch:  0  batch: 1200 [ 12000/60000]  loss: 0.07601069  accuracy:  84.983%\n",
      "epoch:  0  batch: 1800 [ 18000/60000]  loss: 0.20449105  accuracy:  88.422%\n",
      "epoch:  0  batch: 2400 [ 24000/60000]  loss: 0.05690254  accuracy:  90.083%\n",
      "epoch:  0  batch: 3000 [ 30000/60000]  loss: 0.04506849  accuracy:  91.233%\n",
      "epoch:  0  batch: 3600 [ 36000/60000]  loss: 0.00102738  accuracy:  92.156%\n",
      "epoch:  0  batch: 4200 [ 42000/60000]  loss: 0.07767428  accuracy:  92.829%\n",
      "epoch:  0  batch: 4800 [ 48000/60000]  loss: 0.01679319  accuracy:  93.356%\n",
      "epoch:  0  batch: 5400 [ 54000/60000]  loss: 0.67254341  accuracy:  93.824%\n",
      "epoch:  0  batch: 6000 [ 60000/60000]  loss: 0.43982148  accuracy:  94.168%\n",
      "epoch:  1  batch:  600 [  6000/60000]  loss: 0.60083187  accuracy:  97.350%\n",
      "epoch:  1  batch: 1200 [ 12000/60000]  loss: 0.00697334  accuracy:  97.558%\n",
      "epoch:  1  batch: 1800 [ 18000/60000]  loss: 0.00148123  accuracy:  97.811%\n",
      "epoch:  1  batch: 2400 [ 24000/60000]  loss: 0.20661576  accuracy:  97.929%\n",
      "epoch:  1  batch: 3000 [ 30000/60000]  loss: 0.00312408  accuracy:  98.030%\n",
      "epoch:  1  batch: 3600 [ 36000/60000]  loss: 0.35327959  accuracy:  98.056%\n",
      "epoch:  1  batch: 4200 [ 42000/60000]  loss: 0.26640326  accuracy:  98.060%\n",
      "epoch:  1  batch: 4800 [ 48000/60000]  loss: 0.10797118  accuracy:  98.050%\n",
      "epoch:  1  batch: 5400 [ 54000/60000]  loss: 0.00044401  accuracy:  98.072%\n",
      "epoch:  1  batch: 6000 [ 60000/60000]  loss: 0.00048806  accuracy:  98.082%\n",
      "epoch:  2  batch:  600 [  6000/60000]  loss: 0.00054980  accuracy:  98.700%\n",
      "epoch:  2  batch: 1200 [ 12000/60000]  loss: 0.00464291  accuracy:  98.692%\n",
      "epoch:  2  batch: 1800 [ 18000/60000]  loss: 0.47203937  accuracy:  98.672%\n",
      "epoch:  2  batch: 2400 [ 24000/60000]  loss: 0.06224090  accuracy:  98.658%\n",
      "epoch:  2  batch: 3000 [ 30000/60000]  loss: 0.00850310  accuracy:  98.643%\n",
      "epoch:  2  batch: 3600 [ 36000/60000]  loss: 0.00827756  accuracy:  98.617%\n",
      "epoch:  2  batch: 4200 [ 42000/60000]  loss: 0.00237588  accuracy:  98.633%\n",
      "epoch:  2  batch: 4800 [ 48000/60000]  loss: 0.16047987  accuracy:  98.650%\n",
      "epoch:  2  batch: 5400 [ 54000/60000]  loss: 0.00056486  accuracy:  98.650%\n",
      "epoch:  2  batch: 6000 [ 60000/60000]  loss: 0.00145532  accuracy:  98.652%\n",
      "epoch:  3  batch:  600 [  6000/60000]  loss: 0.00211128  accuracy:  98.967%\n",
      "epoch:  3  batch: 1200 [ 12000/60000]  loss: 0.00255720  accuracy:  98.950%\n",
      "epoch:  3  batch: 1800 [ 18000/60000]  loss: 0.00070149  accuracy:  98.917%\n",
      "epoch:  3  batch: 2400 [ 24000/60000]  loss: 0.00004107  accuracy:  98.950%\n",
      "epoch:  3  batch: 3000 [ 30000/60000]  loss: 0.00000992  accuracy:  98.940%\n",
      "epoch:  3  batch: 3600 [ 36000/60000]  loss: 0.00271875  accuracy:  98.939%\n",
      "epoch:  3  batch: 4200 [ 42000/60000]  loss: 0.05467762  accuracy:  98.940%\n",
      "epoch:  3  batch: 4800 [ 48000/60000]  loss: 0.04761670  accuracy:  98.927%\n",
      "epoch:  3  batch: 5400 [ 54000/60000]  loss: 0.00231223  accuracy:  98.928%\n",
      "epoch:  3  batch: 6000 [ 60000/60000]  loss: 0.00025873  accuracy:  98.885%\n",
      "epoch:  4  batch:  600 [  6000/60000]  loss: 0.01180798  accuracy:  99.400%\n",
      "epoch:  4  batch: 1200 [ 12000/60000]  loss: 0.00582335  accuracy:  99.317%\n",
      "epoch:  4  batch: 1800 [ 18000/60000]  loss: 0.00005387  accuracy:  99.122%\n",
      "epoch:  4  batch: 2400 [ 24000/60000]  loss: 0.00278926  accuracy:  99.162%\n",
      "epoch:  4  batch: 3000 [ 30000/60000]  loss: 0.00990114  accuracy:  99.107%\n",
      "epoch:  4  batch: 3600 [ 36000/60000]  loss: 0.15361483  accuracy:  99.125%\n",
      "epoch:  4  batch: 4200 [ 42000/60000]  loss: 0.00010476  accuracy:  99.095%\n",
      "epoch:  4  batch: 4800 [ 48000/60000]  loss: 0.03385357  accuracy:  99.098%\n",
      "epoch:  4  batch: 5400 [ 54000/60000]  loss: 0.00548070  accuracy:  99.081%\n",
      "epoch:  4  batch: 6000 [ 60000/60000]  loss: 0.00088928  accuracy:  99.052%\n",
      "\n",
      "Duration: 584 seconds\n"
     ]
    }
   ],
   "source": [
    "import time\n",
    "start_time = time.time()\n",
    "\n",
    "epochs = 5\n",
    "train_losses = []\n",
    "test_losses = []\n",
    "train_correct = []\n",
    "test_correct = []\n",
    "\n",
    "for i in range(epochs):\n",
    "    trn_corr = 0\n",
    "    tst_corr = 0\n",
    "    \n",
    "    # Run the training batches\n",
    "    for b, (X_train, y_train) in enumerate(train_loader):\n",
    "        b+=1\n",
    "        \n",
    "        # Apply the model\n",
    "        y_pred = model(X_train)  # we don't flatten X-train here\n",
    "        loss = criterion(y_pred, y_train)\n",
    " \n",
    "        # Tally the number of correct predictions\n",
    "        predicted = torch.max(y_pred.data, 1)[1]\n",
    "        batch_corr = (predicted == y_train).sum()\n",
    "        trn_corr += batch_corr\n",
    "        \n",
    "        # Update parameters\n",
    "        optimizer.zero_grad()\n",
    "        loss.backward()\n",
    "        optimizer.step()\n",
    "        \n",
    "        # Print interim results\n",
    "        if b%600 == 0:\n",
    "            print(f'epoch: {i:2}  batch: {b:4} [{10*b:6}/60000]  loss: {loss.item():10.8f}  \\\n",
    "accuracy: {trn_corr.item()*100/(10*b):7.3f}%')\n",
    "        \n",
    "    train_losses.append(loss)\n",
    "    train_correct.append(trn_corr)\n",
    "        \n",
    "    # Run the testing batches\n",
    "    with torch.no_grad():\n",
    "        for b, (X_test, y_test) in enumerate(test_loader):\n",
    "\n",
    "            # Apply the model\n",
    "            y_val = model(X_test)\n",
    "\n",
    "            # Tally the number of correct predictions\n",
    "            predicted = torch.max(y_val.data, 1)[1] \n",
    "            tst_corr += (predicted == y_test).sum()\n",
    "            \n",
    "    loss = criterion(y_val, y_test)\n",
    "    test_losses.append(loss)\n",
    "    test_correct.append(tst_corr)\n",
    "        \n",
    "print(f'\\nDuration: {time.time() - start_time:.0f} seconds') # print the time elapsed            "
   ]
  },
  {
   "cell_type": "markdown",
   "metadata": {},
   "source": [
    "As we can the accuracy is around 99%."
   ]
  },
  {
   "cell_type": "code",
   "execution_count": 23,
   "metadata": {},
   "outputs": [],
   "source": [
    "torch.save(model.state_dict(),'MNIST with CNN.pt')"
   ]
  },
  {
   "cell_type": "markdown",
   "metadata": {},
   "source": [
    "Lets try a new image"
   ]
  },
  {
   "cell_type": "code",
   "execution_count": 26,
   "metadata": {},
   "outputs": [
    {
     "data": {
      "image/png": "[encoded data removed]",
      "text/plain": [
       "<Figure size 640x480 with 1 Axes>"
      ]
     },
     "metadata": {},
     "output_type": "display_data"
    }
   ],
   "source": [
    "plt.plot([t/600 for t in train_correct], label='training accuracy')\n",
    "plt.plot([t/100 for t in test_correct], label='validation accuracy')\n",
    "plt.title('Accuracy at the end of each epoch')\n",
    "plt.legend();"
   ]
  },
  {
   "cell_type": "markdown",
   "metadata": {},
   "source": [
    "## Model Evaluation"
   ]
  },
  {
   "cell_type": "code",
   "execution_count": 24,
   "metadata": {},
   "outputs": [
    {
     "data": {
      "text/plain": [
       "<matplotlib.image.AxesImage at 0x24cf2d98910>"
      ]
     },
     "execution_count": 24,
     "metadata": {},
     "output_type": "execute_result"
    },
    {
     "data": {
      "image/png": "[encoded data removed]",
      "text/plain": [
       "<Figure size 640x480 with 1 Axes>"
      ]
     },
     "metadata": {},
     "output_type": "display_data"
    }
   ],
   "source": [
    "plt.imshow(test_data[100][0].reshape((28,28)))"
   ]
  },
  {
   "cell_type": "code",
   "execution_count": 25,
   "metadata": {},
   "outputs": [
    {
     "name": "stdout",
     "output_type": "stream",
     "text": [
      "Predicted value: 6\n"
     ]
    }
   ],
   "source": [
    "model.eval()\n",
    "with torch.no_grad():\n",
    "    new_pred = model(test_data[100][0].view(1,1,28,28)).argmax()\n",
    "print(\"Predicted value:\",new_pred.item())"
   ]
  }
 ],
 "metadata": {
  "kernelspec": {
   "display_name": "base",
   "language": "python",
   "name": "python3"
  },
  "language_info": {
   "codemirror_mode": {
    "name": "ipython",
    "version": 3
   },
   "file_extension": ".py",
   "mimetype": "text/x-python",
   "name": "python",
   "nbconvert_exporter": "python",
   "pygments_lexer": "ipython3",
   "version": "3.11.5"
  }
 },
 "nbformat": 4,
 "nbformat_minor": 2
}
